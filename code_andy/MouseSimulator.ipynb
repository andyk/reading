{
 "cells": [
  {
   "cell_type": "markdown",
   "metadata": {},
   "source": [
    "# Mouse Simulator\n",
    "\n",
    "\n",
    "This agent represents a very simple mouse who maintains a generative bayesian model of its world consisting of 2 normal distributions and a non-linear transformation g(x) = x^2. The mouse's sensations of its world are very simplistic: it only has a single sensor that generates a scalar value representing light intensity.\n"
   ]
  },
  {
   "cell_type": "code",
   "execution_count": 38,
   "metadata": {},
   "outputs": [
    {
     "name": "stdout",
     "output_type": "stream",
     "text": [
      "Running mouse simulator for 50 steps...\n",
      "------------------------------------------------\n",
      "0: self.cookie_size_belief is 0.03\n",
      "5: self.cookie_size_belief is 0.33550942891285235\n",
      "10: self.cookie_size_belief is 0.9742250291152807\n",
      "15: self.cookie_size_belief is 2.398847965693396\n",
      "20: self.cookie_size_belief is 3.0827077032758385\n",
      "25: self.cookie_size_belief is 2.865117008705697\n",
      "30: self.cookie_size_belief is 3.278443297661333\n",
      "35: self.cookie_size_belief is 2.785136567556832\n",
      "40: self.cookie_size_belief is 2.824438225372269\n",
      "45: self.cookie_size_belief is 2.163474926059564\n"
     ]
    },
    {
     "data": {
      "text/plain": [
       "<__main__.Mouse at 0x110b73650>"
      ]
     },
     "execution_count": 38,
     "metadata": {},
     "output_type": "execute_result"
    }
   ],
   "source": [
    "import numpy as np\n",
    "\n",
    "# CookieSensorEnv represents a world that has a cookie and a sensor in it.\n",
    "# In this world, only one cookie exists at a time, and that cookie\n",
    "# reflects light as a function of its size.\n",
    "# An agent senses the light bouncing off the cookie by calling step(),\n",
    "# which returns a scalar representing light intensity.\n",
    "# Cookie size is random, determined by a normal distribution with\n",
    "# with parameters specified via __init__() or left to their default values.\n",
    "# Sensor output is also random, specified by a 2nd normal distribution,\n",
    "# with mean set to a function g(x) of the output of the cookie_size\n",
    "# distribution, and std specified via __init__(). To summarize the flow:\n",
    "# 0) an agent calls step() on this env, receives a sample of light_intensity\n",
    "#    generated per the following:\n",
    "# 1) a cookie is generated with a random size per normal dist. with user\n",
    "#    provided mean and std.\n",
    "# 2) size transformed and used as light_mean via: light_mean = g(size) = size^2\n",
    "# 3) a sensor reading is generated and returned with random intensity per\n",
    "#    normal distribution using light_mean as mean and user provided std.\n",
    "class CookieSensorEnv:\n",
    "    def __init__(self,\n",
    "                 cookie_size_mean=3,\n",
    "                 cookie_size_std=1,\n",
    "                 area_to_light_fn=lambda x: x*x,\n",
    "                 light_intensity_std=1):\n",
    "        self.cookie_size_mean = cookie_size_mean\n",
    "        self.cookie_size_std = cookie_size_std\n",
    "        self.area_to_light_fn = area_to_light_fn\n",
    "        self.light_intensity_std = light_intensity_std\n",
    "\n",
    "    # No actions accepted\n",
    "    # Returns light intensity at this timestep.\n",
    "    def step(self, action):\n",
    "        assert not action\n",
    "        cookie_size_sample = np.random.normal(self.cookie_size_mean, self.cookie_size_std)\n",
    "        light_intensity_mean = self.area_to_light_fn(cookie_size_sample)\n",
    "        light_intensity_sample = np.random.normal(light_intensity_mean, self.light_intensity_std)\n",
    "        return light_intensity_sample, 0, False, {}\n",
    "\n",
    "    \n",
    "# The mouse brain has variables to track its beliefs about the world.\n",
    "# Beliefs consist of estimates of the parameters in the environment,\n",
    "# which from the mouses point of view are latent variables that must\n",
    "# be learned through repeated experience of the end result of the physical\n",
    "# processes, namely the output of the mouses noisy light sensor (its eye).\n",
    "#\n",
    "# These variables fall roughly into two categories:\n",
    "# 1) beliefs that can be updated quickly in response to sensory input\n",
    "#    such as the belief that a recently viewed cookie was 2cm.\n",
    "#    These are analogous to the near-realtime changes to the output\n",
    "#    of a Tensorflow DNN when new inputs are applied to it.\n",
    "# 2) beliefs that evolve more slowly over time which in the brain\n",
    "#    are implemented using synaptic plasticity, analogous to the way\n",
    "#    params are updated via backprop in TensorFlow.\n",
    "\n",
    "class Mouse:\n",
    "    def __init__(self, env, steps=1):\n",
    "        self.light_intensity_error_belief = 0  # epsilon_u\n",
    "        self.cookie_size_error_belief = 0      # epsilon_p\n",
    "        self.cookie_size_belief = 0            # phi\n",
    "        \n",
    "        self.cookie_size_std_belief = 1                     # sigma_p\n",
    "        self.light_intensity_std_belief = 1                 # sigma_u\n",
    "        self.cookie_size_mean_belief = 3                    # v_p\n",
    "        self.area_to_light_belief_fn = lambda x: x**2       # g()\n",
    "        self.area_to_light_deriv_belief_fn = lambda x: 2*x  # g'()\n",
    "      \n",
    "        self.step_size = 0.01\n",
    "        self.env = env\n",
    "        self.num_steps = 0\n",
    "        while self.num_steps < steps:\n",
    "            obs, reward, done, _ = self.env.step(None)\n",
    "            self.update_world_model(obs)\n",
    "            self.num_steps += 1\n",
    "        \n",
    "    def update_world_model(self, obs):\n",
    "        def df_dphi(phi):\n",
    "            epsilon_p = (phi - self.cookie_size_mean_belief) / self.cookie_size_std_belief \n",
    "            epsilon_u = (obs - self.area_to_light_belief_fn(phi)) / self.light_intensity_std_belief\n",
    "            return epsilon_u * self.area_to_light_deriv_belief_fn(phi) - epsilon_p\n",
    "\n",
    "        deriv_of_f = df_dphi(self.cookie_size_belief)\n",
    "        self.cookie_size_belief = self.cookie_size_belief + self.step_size * deriv_of_f\n",
    "        if self.num_steps % 5 == 0:\n",
    "            print(f\"{self.num_steps}: self.cookie_size_belief is {self.cookie_size_belief}\")\n",
    "\n",
    "\n",
    "# Create a mouse agent and see what it learns as its best guess of the\n",
    "# size of cookies it is seeing.\n",
    "num_steps = 50\n",
    "print(f\"Running mouse simulator for {num_steps} steps...\")\n",
    "print(\"------------------------------------------------\")\n",
    "Mouse(CookieSensorEnv(), steps=num_steps)\n",
    "        "
   ]
  },
  {
   "cell_type": "code",
   "execution_count": null,
   "metadata": {},
   "outputs": [],
   "source": []
  }
 ],
 "metadata": {
  "kernelspec": {
   "display_name": "Python 3",
   "language": "python",
   "name": "python3"
  },
  "language_info": {
   "codemirror_mode": {
    "name": "ipython",
    "version": 3
   },
   "file_extension": ".py",
   "mimetype": "text/x-python",
   "name": "python",
   "nbconvert_exporter": "python",
   "pygments_lexer": "ipython3",
   "version": "3.7.7"
  }
 },
 "nbformat": 4,
 "nbformat_minor": 4
}
